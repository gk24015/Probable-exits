{
  "nbformat": 4,
  "nbformat_minor": 0,
  "metadata": {
    "colab": {
      "name": "Untitled1.ipynb",
      "provenance": []
    },
    "kernelspec": {
      "name": "python3",
      "display_name": "Python 3"
    }
  },
  "cells": [
    {
      "cell_type": "markdown",
      "metadata": {
        "id": "FiKyrCOq1JP9",
        "colab_type": "text"
      },
      "source": [
        "Importing all the liabraries\n"
      ]
    },
    {
      "cell_type": "code",
      "metadata": {
        "id": "8cjmgyyC1Dmc",
        "colab_type": "code",
        "colab": {}
      },
      "source": [
        "import numpy as np\n",
        "import pandas as pd\n",
        "import tensorflow as tf"
      ],
      "execution_count": 1,
      "outputs": []
    },
    {
      "cell_type": "markdown",
      "metadata": {
        "id": "IVXRHBPV2tY-",
        "colab_type": "text"
      },
      "source": [
        "setting dependent variables for x and y"
      ]
    },
    {
      "cell_type": "code",
      "metadata": {
        "id": "YDVZV-Tn2rt7",
        "colab_type": "code",
        "colab": {}
      },
      "source": [
        "dataset = pd.read_csv('Churn_Modelling.csv')\n",
        "X = dataset.iloc[:, 3:-1].values\n",
        "y = dataset.iloc[:, -1].values"
      ],
      "execution_count": 3,
      "outputs": []
    },
    {
      "cell_type": "code",
      "metadata": {
        "id": "RGVyhY5R2_Mu",
        "colab_type": "code",
        "colab": {
          "base_uri": "https://localhost:8080/",
          "height": 134
        },
        "outputId": "e625d7e1-63f2-4ec2-be7f-80807be2e585"
      },
      "source": [
        "print (X)"
      ],
      "execution_count": 5,
      "outputs": [
        {
          "output_type": "stream",
          "text": [
            "[[619 'France' 'Female' ... 1 1 101348.88]\n",
            " [608 'Spain' 'Female' ... 0 1 112542.58]\n",
            " [502 'France' 'Female' ... 1 0 113931.57]\n",
            " ...\n",
            " [709 'France' 'Female' ... 0 1 42085.58]\n",
            " [772 'Germany' 'Male' ... 1 0 92888.52]\n",
            " [792 'France' 'Female' ... 1 0 38190.78]]\n"
          ],
          "name": "stdout"
        }
      ]
    },
    {
      "cell_type": "code",
      "metadata": {
        "id": "i8-lml9D3FDp",
        "colab_type": "code",
        "colab": {
          "base_uri": "https://localhost:8080/",
          "height": 34
        },
        "outputId": "59558b5c-8294-46b1-a829-b46897d212e2"
      },
      "source": [
        "print(y)"
      ],
      "execution_count": 7,
      "outputs": [
        {
          "output_type": "stream",
          "text": [
            "[1 0 1 ... 1 1 0]\n"
          ],
          "name": "stdout"
        }
      ]
    },
    {
      "cell_type": "markdown",
      "metadata": {
        "id": "07BsnrAr3TQz",
        "colab_type": "text"
      },
      "source": [
        "Label encoding gender "
      ]
    },
    {
      "cell_type": "code",
      "metadata": {
        "id": "xCPsItse3SNV",
        "colab_type": "code",
        "colab": {}
      },
      "source": [
        "from sklearn.preprocessing import LabelEncoder\n",
        "le = LabelEncoder()\n",
        "X[:, 2] = le.fit_transform(X[:, 2])"
      ],
      "execution_count": 9,
      "outputs": []
    },
    {
      "cell_type": "code",
      "metadata": {
        "id": "SieZT2wS4R3Q",
        "colab_type": "code",
        "colab": {
          "base_uri": "https://localhost:8080/",
          "height": 134
        },
        "outputId": "d11c5312-c08f-4673-a6ca-f20dc7b835cc"
      },
      "source": [
        "print (X)\n"
      ],
      "execution_count": 12,
      "outputs": [
        {
          "output_type": "stream",
          "text": [
            "[[619 'France' 0 ... 1 1 101348.88]\n",
            " [608 'Spain' 0 ... 0 1 112542.58]\n",
            " [502 'France' 0 ... 1 0 113931.57]\n",
            " ...\n",
            " [709 'France' 0 ... 0 1 42085.58]\n",
            " [772 'Germany' 1 ... 1 0 92888.52]\n",
            " [792 'France' 0 ... 1 0 38190.78]]\n"
          ],
          "name": "stdout"
        }
      ]
    },
    {
      "cell_type": "markdown",
      "metadata": {
        "id": "e6S9sdLA4dCh",
        "colab_type": "text"
      },
      "source": [
        "One hot geocoder for country decoding into numbers "
      ]
    },
    {
      "cell_type": "code",
      "metadata": {
        "id": "gHkPFFdp4iTc",
        "colab_type": "code",
        "colab": {}
      },
      "source": [
        "from sklearn.compose import ColumnTransformer\n",
        "from sklearn.preprocessing import OneHotEncoder\n",
        "ct = ColumnTransformer(transformers=[('encoder', OneHotEncoder(), [1])], remainder='passthrough')\n",
        "X = np.array(ct.fit_transform(X))"
      ],
      "execution_count": 13,
      "outputs": []
    },
    {
      "cell_type": "code",
      "metadata": {
        "id": "lu_MoYlN4cLg",
        "colab_type": "code",
        "colab": {
          "base_uri": "https://localhost:8080/",
          "height": 134
        },
        "outputId": "1a3a5dcc-e7c7-48ab-c739-f88ece6207c6"
      },
      "source": [
        "print(X)"
      ],
      "execution_count": 14,
      "outputs": [
        {
          "output_type": "stream",
          "text": [
            "[[1.0 0.0 0.0 ... 1 1 101348.88]\n",
            " [0.0 0.0 1.0 ... 0 1 112542.58]\n",
            " [1.0 0.0 0.0 ... 1 0 113931.57]\n",
            " ...\n",
            " [1.0 0.0 0.0 ... 0 1 42085.58]\n",
            " [0.0 1.0 0.0 ... 1 0 92888.52]\n",
            " [1.0 0.0 0.0 ... 1 0 38190.78]]\n"
          ],
          "name": "stdout"
        }
      ]
    },
    {
      "cell_type": "markdown",
      "metadata": {
        "id": "f8kReki75W4y",
        "colab_type": "text"
      },
      "source": [
        "splitting training and test set \n",
        "20 percent is taken triaining set"
      ]
    },
    {
      "cell_type": "code",
      "metadata": {
        "id": "YdJvwqFi4qRD",
        "colab_type": "code",
        "colab": {}
      },
      "source": [
        "from sklearn.model_selection import train_test_split\n",
        "X_train, X_test, y_train, y_test = train_test_split(X, y, test_size = 0.2, random_state = 0)"
      ],
      "execution_count": 15,
      "outputs": []
    },
    {
      "cell_type": "markdown",
      "metadata": {
        "id": "BnnjBjre47F5",
        "colab_type": "text"
      },
      "source": [
        "Feature Scaling"
      ]
    },
    {
      "cell_type": "code",
      "metadata": {
        "id": "EXIE_QjU48g3",
        "colab_type": "code",
        "colab": {}
      },
      "source": [
        "from sklearn.preprocessing import StandardScaler\n",
        "sc = StandardScaler()\n",
        "X_train = sc.fit_transform(X_train)\n",
        "X_test = sc.transform(X_test)"
      ],
      "execution_count": 16,
      "outputs": []
    },
    {
      "cell_type": "code",
      "metadata": {
        "id": "9IcovLEF46mY",
        "colab_type": "code",
        "colab": {
          "base_uri": "https://localhost:8080/",
          "height": 235
        },
        "outputId": "dafd5e28-514c-4cf2-e8bf-e03f347bde22"
      },
      "source": [
        "print(X_train)\n"
      ],
      "execution_count": 17,
      "outputs": [
        {
          "output_type": "stream",
          "text": [
            "[[-1.01460667 -0.5698444   1.74309049 ...  0.64259497 -1.03227043\n",
            "   1.10643166]\n",
            " [-1.01460667  1.75486502 -0.57369368 ...  0.64259497  0.9687384\n",
            "  -0.74866447]\n",
            " [ 0.98560362 -0.5698444  -0.57369368 ...  0.64259497 -1.03227043\n",
            "   1.48533467]\n",
            " ...\n",
            " [ 0.98560362 -0.5698444  -0.57369368 ...  0.64259497 -1.03227043\n",
            "   1.41231994]\n",
            " [-1.01460667 -0.5698444   1.74309049 ...  0.64259497  0.9687384\n",
            "   0.84432121]\n",
            " [-1.01460667  1.75486502 -0.57369368 ...  0.64259497 -1.03227043\n",
            "   0.32472465]]\n"
          ],
          "name": "stdout"
        }
      ]
    },
    {
      "cell_type": "code",
      "metadata": {
        "id": "s6HILkdN44KC",
        "colab_type": "code",
        "colab": {
          "base_uri": "https://localhost:8080/",
          "height": 235
        },
        "outputId": "ef59e656-4d36-41ea-df43-b12f6f012b2e"
      },
      "source": [
        "print(X_test)"
      ],
      "execution_count": 18,
      "outputs": [
        {
          "output_type": "stream",
          "text": [
            "[[-1.01460667  1.75486502 -0.57369368 ...  0.64259497  0.9687384\n",
            "   1.61085707]\n",
            " [ 0.98560362 -0.5698444  -0.57369368 ...  0.64259497 -1.03227043\n",
            "   0.49587037]\n",
            " [-1.01460667 -0.5698444   1.74309049 ...  0.64259497  0.9687384\n",
            "  -0.42478674]\n",
            " ...\n",
            " [-1.01460667 -0.5698444   1.74309049 ...  0.64259497 -1.03227043\n",
            "   0.71888467]\n",
            " [-1.01460667  1.75486502 -0.57369368 ...  0.64259497  0.9687384\n",
            "  -1.54507805]\n",
            " [-1.01460667  1.75486502 -0.57369368 ...  0.64259497 -1.03227043\n",
            "   1.61255917]]\n"
          ],
          "name": "stdout"
        }
      ]
    },
    {
      "cell_type": "markdown",
      "metadata": {
        "id": "no5WcQoY5dza",
        "colab_type": "text"
      },
      "source": [
        "Initializing ANN"
      ]
    },
    {
      "cell_type": "code",
      "metadata": {
        "id": "_AylzYGk5Y_O",
        "colab_type": "code",
        "colab": {}
      },
      "source": [
        "ann = tf.keras.models.Sequential()"
      ],
      "execution_count": 20,
      "outputs": []
    },
    {
      "cell_type": "markdown",
      "metadata": {
        "id": "g-H458dY5nVN",
        "colab_type": "text"
      },
      "source": [
        "Adding hidden layer"
      ]
    },
    {
      "cell_type": "code",
      "metadata": {
        "id": "iFqKDkvL5hDn",
        "colab_type": "code",
        "colab": {}
      },
      "source": [
        "ann.add(tf.keras.layers.Dense(units=6, activation='relu'))\n",
        "ann.add(tf.keras.layers.Dense(units=6, activation='relu'))\n"
      ],
      "execution_count": 21,
      "outputs": []
    },
    {
      "cell_type": "markdown",
      "metadata": {
        "id": "mjcuWqR-519O",
        "colab_type": "text"
      },
      "source": [
        "Adding output layer"
      ]
    },
    {
      "cell_type": "code",
      "metadata": {
        "id": "sS05o6Ez54Mz",
        "colab_type": "code",
        "colab": {}
      },
      "source": [
        "ann.add(tf.keras.layers.Dense(units=1, activation='sigmoid'))"
      ],
      "execution_count": 22,
      "outputs": []
    },
    {
      "cell_type": "markdown",
      "metadata": {
        "id": "sG3J_2mL6KSY",
        "colab_type": "text"
      },
      "source": [
        "Compiling ANN"
      ]
    },
    {
      "cell_type": "code",
      "metadata": {
        "id": "auZSRNfY6J5-",
        "colab_type": "code",
        "colab": {}
      },
      "source": [
        "ann.compile(optimizer = 'adam', loss = 'binary_crossentropy', metrics = ['accuracy'])"
      ],
      "execution_count": 23,
      "outputs": []
    },
    {
      "cell_type": "markdown",
      "metadata": {
        "id": "lir3MqdV6Tew",
        "colab_type": "text"
      },
      "source": [
        "Training model on training set"
      ]
    },
    {
      "cell_type": "code",
      "metadata": {
        "id": "vRhRE-GZ6TAe",
        "colab_type": "code",
        "colab": {
          "base_uri": "https://localhost:8080/",
          "height": 1000
        },
        "outputId": "817154da-957a-4abb-e8d2-48a3eae744e2"
      },
      "source": [
        "ann.fit(X_train, y_train, batch_size = 32, epochs = 100)"
      ],
      "execution_count": 24,
      "outputs": [
        {
          "output_type": "stream",
          "text": [
            "Epoch 1/100\n",
            "250/250 [==============================] - 0s 942us/step - loss: 0.5239 - accuracy: 0.7849\n",
            "Epoch 2/100\n",
            "250/250 [==============================] - 0s 980us/step - loss: 0.4671 - accuracy: 0.7989\n",
            "Epoch 3/100\n",
            "250/250 [==============================] - 0s 986us/step - loss: 0.4455 - accuracy: 0.8051\n",
            "Epoch 4/100\n",
            "250/250 [==============================] - 0s 922us/step - loss: 0.4327 - accuracy: 0.8112\n",
            "Epoch 5/100\n",
            "250/250 [==============================] - 0s 893us/step - loss: 0.4241 - accuracy: 0.8185\n",
            "Epoch 6/100\n",
            "250/250 [==============================] - 0s 953us/step - loss: 0.4181 - accuracy: 0.8217\n",
            "Epoch 7/100\n",
            "250/250 [==============================] - 0s 916us/step - loss: 0.4139 - accuracy: 0.8235\n",
            "Epoch 8/100\n",
            "250/250 [==============================] - 0s 944us/step - loss: 0.4106 - accuracy: 0.8254\n",
            "Epoch 9/100\n",
            "250/250 [==============================] - 0s 1ms/step - loss: 0.4081 - accuracy: 0.8246\n",
            "Epoch 10/100\n",
            "250/250 [==============================] - 0s 933us/step - loss: 0.4058 - accuracy: 0.8255\n",
            "Epoch 11/100\n",
            "250/250 [==============================] - 0s 948us/step - loss: 0.4033 - accuracy: 0.8263\n",
            "Epoch 12/100\n",
            "250/250 [==============================] - 0s 902us/step - loss: 0.4005 - accuracy: 0.8284\n",
            "Epoch 13/100\n",
            "250/250 [==============================] - 0s 926us/step - loss: 0.3978 - accuracy: 0.8291\n",
            "Epoch 14/100\n",
            "250/250 [==============================] - 0s 931us/step - loss: 0.3955 - accuracy: 0.8306\n",
            "Epoch 15/100\n",
            "250/250 [==============================] - 0s 948us/step - loss: 0.3927 - accuracy: 0.8304\n",
            "Epoch 16/100\n",
            "250/250 [==============================] - 0s 931us/step - loss: 0.3899 - accuracy: 0.8317\n",
            "Epoch 17/100\n",
            "250/250 [==============================] - 0s 932us/step - loss: 0.3873 - accuracy: 0.8290\n",
            "Epoch 18/100\n",
            "250/250 [==============================] - 0s 924us/step - loss: 0.3840 - accuracy: 0.8288\n",
            "Epoch 19/100\n",
            "250/250 [==============================] - 0s 928us/step - loss: 0.3810 - accuracy: 0.8310\n",
            "Epoch 20/100\n",
            "250/250 [==============================] - 0s 910us/step - loss: 0.3782 - accuracy: 0.8321\n",
            "Epoch 21/100\n",
            "250/250 [==============================] - 0s 896us/step - loss: 0.3747 - accuracy: 0.8357\n",
            "Epoch 22/100\n",
            "250/250 [==============================] - 0s 898us/step - loss: 0.3715 - accuracy: 0.8454\n",
            "Epoch 23/100\n",
            "250/250 [==============================] - 0s 892us/step - loss: 0.3690 - accuracy: 0.8471\n",
            "Epoch 24/100\n",
            "250/250 [==============================] - 0s 947us/step - loss: 0.3658 - accuracy: 0.8509\n",
            "Epoch 25/100\n",
            "250/250 [==============================] - 0s 935us/step - loss: 0.3635 - accuracy: 0.8505\n",
            "Epoch 26/100\n",
            "250/250 [==============================] - 0s 985us/step - loss: 0.3610 - accuracy: 0.8541\n",
            "Epoch 27/100\n",
            "250/250 [==============================] - 0s 902us/step - loss: 0.3588 - accuracy: 0.8546\n",
            "Epoch 28/100\n",
            "250/250 [==============================] - 0s 985us/step - loss: 0.3570 - accuracy: 0.8535\n",
            "Epoch 29/100\n",
            "250/250 [==============================] - 0s 935us/step - loss: 0.3546 - accuracy: 0.8546\n",
            "Epoch 30/100\n",
            "250/250 [==============================] - 0s 962us/step - loss: 0.3525 - accuracy: 0.8546\n",
            "Epoch 31/100\n",
            "250/250 [==============================] - 0s 900us/step - loss: 0.3507 - accuracy: 0.8579\n",
            "Epoch 32/100\n",
            "250/250 [==============================] - 0s 967us/step - loss: 0.3486 - accuracy: 0.8583\n",
            "Epoch 33/100\n",
            "250/250 [==============================] - 0s 1ms/step - loss: 0.3475 - accuracy: 0.8569\n",
            "Epoch 34/100\n",
            "250/250 [==============================] - 0s 975us/step - loss: 0.3459 - accuracy: 0.8591\n",
            "Epoch 35/100\n",
            "250/250 [==============================] - 0s 874us/step - loss: 0.3444 - accuracy: 0.8596\n",
            "Epoch 36/100\n",
            "250/250 [==============================] - 0s 963us/step - loss: 0.3431 - accuracy: 0.8619\n",
            "Epoch 37/100\n",
            "250/250 [==============================] - 0s 950us/step - loss: 0.3415 - accuracy: 0.8601\n",
            "Epoch 38/100\n",
            "250/250 [==============================] - 0s 919us/step - loss: 0.3412 - accuracy: 0.8625\n",
            "Epoch 39/100\n",
            "250/250 [==============================] - 0s 957us/step - loss: 0.3397 - accuracy: 0.8614\n",
            "Epoch 40/100\n",
            "250/250 [==============================] - 0s 920us/step - loss: 0.3391 - accuracy: 0.8624\n",
            "Epoch 41/100\n",
            "250/250 [==============================] - 0s 911us/step - loss: 0.3381 - accuracy: 0.8612\n",
            "Epoch 42/100\n",
            "250/250 [==============================] - 0s 942us/step - loss: 0.3374 - accuracy: 0.8645\n",
            "Epoch 43/100\n",
            "250/250 [==============================] - 0s 895us/step - loss: 0.3365 - accuracy: 0.8629\n",
            "Epoch 44/100\n",
            "250/250 [==============================] - 0s 976us/step - loss: 0.3361 - accuracy: 0.8643\n",
            "Epoch 45/100\n",
            "250/250 [==============================] - 0s 922us/step - loss: 0.3365 - accuracy: 0.8621\n",
            "Epoch 46/100\n",
            "250/250 [==============================] - 0s 884us/step - loss: 0.3352 - accuracy: 0.8626\n",
            "Epoch 47/100\n",
            "250/250 [==============================] - 0s 953us/step - loss: 0.3350 - accuracy: 0.8641\n",
            "Epoch 48/100\n",
            "250/250 [==============================] - 0s 949us/step - loss: 0.3342 - accuracy: 0.8621\n",
            "Epoch 49/100\n",
            "250/250 [==============================] - 0s 937us/step - loss: 0.3344 - accuracy: 0.8645\n",
            "Epoch 50/100\n",
            "250/250 [==============================] - 0s 883us/step - loss: 0.3343 - accuracy: 0.8640\n",
            "Epoch 51/100\n",
            "250/250 [==============================] - 0s 928us/step - loss: 0.3341 - accuracy: 0.8627\n",
            "Epoch 52/100\n",
            "250/250 [==============================] - 0s 896us/step - loss: 0.3336 - accuracy: 0.8644\n",
            "Epoch 53/100\n",
            "250/250 [==============================] - 0s 930us/step - loss: 0.3332 - accuracy: 0.8631\n",
            "Epoch 54/100\n",
            "250/250 [==============================] - 0s 924us/step - loss: 0.3328 - accuracy: 0.8634\n",
            "Epoch 55/100\n",
            "250/250 [==============================] - 0s 889us/step - loss: 0.3331 - accuracy: 0.8652\n",
            "Epoch 56/100\n",
            "250/250 [==============================] - 0s 944us/step - loss: 0.3328 - accuracy: 0.8639\n",
            "Epoch 57/100\n",
            "250/250 [==============================] - 0s 910us/step - loss: 0.3321 - accuracy: 0.8652\n",
            "Epoch 58/100\n",
            "250/250 [==============================] - 0s 900us/step - loss: 0.3324 - accuracy: 0.8637\n",
            "Epoch 59/100\n",
            "250/250 [==============================] - 0s 919us/step - loss: 0.3328 - accuracy: 0.8627\n",
            "Epoch 60/100\n",
            "250/250 [==============================] - 0s 973us/step - loss: 0.3320 - accuracy: 0.8624\n",
            "Epoch 61/100\n",
            "250/250 [==============================] - 0s 920us/step - loss: 0.3316 - accuracy: 0.8614\n",
            "Epoch 62/100\n",
            "250/250 [==============================] - 0s 916us/step - loss: 0.3313 - accuracy: 0.8636\n",
            "Epoch 63/100\n",
            "250/250 [==============================] - 0s 902us/step - loss: 0.3318 - accuracy: 0.8644\n",
            "Epoch 64/100\n",
            "250/250 [==============================] - 0s 924us/step - loss: 0.3321 - accuracy: 0.8640\n",
            "Epoch 65/100\n",
            "250/250 [==============================] - 0s 887us/step - loss: 0.3307 - accuracy: 0.8644\n",
            "Epoch 66/100\n",
            "250/250 [==============================] - 0s 918us/step - loss: 0.3325 - accuracy: 0.8629\n",
            "Epoch 67/100\n",
            "250/250 [==============================] - 0s 931us/step - loss: 0.3314 - accuracy: 0.8614\n",
            "Epoch 68/100\n",
            "250/250 [==============================] - 0s 976us/step - loss: 0.3315 - accuracy: 0.8631\n",
            "Epoch 69/100\n",
            "250/250 [==============================] - 0s 950us/step - loss: 0.3310 - accuracy: 0.8635\n",
            "Epoch 70/100\n",
            "250/250 [==============================] - 0s 948us/step - loss: 0.3311 - accuracy: 0.8629\n",
            "Epoch 71/100\n",
            "250/250 [==============================] - 0s 912us/step - loss: 0.3307 - accuracy: 0.8636\n",
            "Epoch 72/100\n",
            "250/250 [==============================] - 0s 908us/step - loss: 0.3307 - accuracy: 0.8620\n",
            "Epoch 73/100\n",
            "250/250 [==============================] - 0s 934us/step - loss: 0.3307 - accuracy: 0.8637\n",
            "Epoch 74/100\n",
            "250/250 [==============================] - 0s 942us/step - loss: 0.3308 - accuracy: 0.8641\n",
            "Epoch 75/100\n",
            "250/250 [==============================] - 0s 924us/step - loss: 0.3304 - accuracy: 0.8629\n",
            "Epoch 76/100\n",
            "250/250 [==============================] - 0s 914us/step - loss: 0.3302 - accuracy: 0.8636\n",
            "Epoch 77/100\n",
            "250/250 [==============================] - 0s 969us/step - loss: 0.3302 - accuracy: 0.8633\n",
            "Epoch 78/100\n",
            "250/250 [==============================] - 0s 1ms/step - loss: 0.3305 - accuracy: 0.8648\n",
            "Epoch 79/100\n",
            "250/250 [==============================] - 0s 1ms/step - loss: 0.3303 - accuracy: 0.8643\n",
            "Epoch 80/100\n",
            "250/250 [==============================] - 0s 1ms/step - loss: 0.3299 - accuracy: 0.8633\n",
            "Epoch 81/100\n",
            "250/250 [==============================] - 0s 925us/step - loss: 0.3296 - accuracy: 0.8633\n",
            "Epoch 82/100\n",
            "250/250 [==============================] - 0s 969us/step - loss: 0.3304 - accuracy: 0.8640\n",
            "Epoch 83/100\n",
            "250/250 [==============================] - 0s 996us/step - loss: 0.3294 - accuracy: 0.8622\n",
            "Epoch 84/100\n",
            "250/250 [==============================] - 0s 947us/step - loss: 0.3303 - accuracy: 0.8641\n",
            "Epoch 85/100\n",
            "250/250 [==============================] - 0s 920us/step - loss: 0.3296 - accuracy: 0.8636\n",
            "Epoch 86/100\n",
            "250/250 [==============================] - 0s 913us/step - loss: 0.3293 - accuracy: 0.8631\n",
            "Epoch 87/100\n",
            "250/250 [==============================] - 0s 979us/step - loss: 0.3302 - accuracy: 0.8655\n",
            "Epoch 88/100\n",
            "250/250 [==============================] - 0s 936us/step - loss: 0.3291 - accuracy: 0.8645\n",
            "Epoch 89/100\n",
            "250/250 [==============================] - 0s 1ms/step - loss: 0.3298 - accuracy: 0.8637\n",
            "Epoch 90/100\n",
            "250/250 [==============================] - 0s 957us/step - loss: 0.3294 - accuracy: 0.8654\n",
            "Epoch 91/100\n",
            "250/250 [==============================] - 0s 916us/step - loss: 0.3294 - accuracy: 0.8633\n",
            "Epoch 92/100\n",
            "250/250 [==============================] - 0s 908us/step - loss: 0.3293 - accuracy: 0.8650\n",
            "Epoch 93/100\n",
            "250/250 [==============================] - 0s 917us/step - loss: 0.3294 - accuracy: 0.8648\n",
            "Epoch 94/100\n",
            "250/250 [==============================] - 0s 969us/step - loss: 0.3294 - accuracy: 0.8641\n",
            "Epoch 95/100\n",
            "250/250 [==============================] - 0s 926us/step - loss: 0.3289 - accuracy: 0.8661\n",
            "Epoch 96/100\n",
            "250/250 [==============================] - 0s 912us/step - loss: 0.3298 - accuracy: 0.8636\n",
            "Epoch 97/100\n",
            "250/250 [==============================] - 0s 937us/step - loss: 0.3287 - accuracy: 0.8650\n",
            "Epoch 98/100\n",
            "250/250 [==============================] - 0s 959us/step - loss: 0.3287 - accuracy: 0.8666\n",
            "Epoch 99/100\n",
            "250/250 [==============================] - 0s 1ms/step - loss: 0.3281 - accuracy: 0.8649\n",
            "Epoch 100/100\n",
            "250/250 [==============================] - 0s 984us/step - loss: 0.3295 - accuracy: 0.8640\n"
          ],
          "name": "stdout"
        },
        {
          "output_type": "execute_result",
          "data": {
            "text/plain": [
              "<tensorflow.python.keras.callbacks.History at 0x7f653f082e80>"
            ]
          },
          "metadata": {
            "tags": []
          },
          "execution_count": 24
        }
      ]
    },
    {
      "cell_type": "markdown",
      "metadata": {
        "id": "t53VpyRJ7C20",
        "colab_type": "text"
      },
      "source": [
        "task-\n",
        "\n",
        "predict if the customer with the following informations will leave the bank:\n",
        "\n",
        "Geography: France\n",
        "\n",
        "Credit Score: 600\n",
        "\n",
        "Gender: Male\n",
        "\n",
        "Age: 40 years old\n",
        "\n",
        "Tenure: 3 years\n",
        "\n",
        "Balance: $ 60000\n",
        "\n",
        "Number of Products: 2\n",
        "\n",
        "Does this customer have a credit card? Yes\n",
        "\n",
        "Is this customer an Active Member: Yes\n",
        "\n",
        "Estimated Salary: $ 50000\n",
        "\n"
      ]
    },
    {
      "cell_type": "markdown",
      "metadata": {
        "id": "zvAjOcUg7SpT",
        "colab_type": "text"
      },
      "source": [
        "here putting value of france and gender after encoding and check if probability is greater than 0.5"
      ]
    },
    {
      "cell_type": "code",
      "metadata": {
        "id": "oQINbkvM69F4",
        "colab_type": "code",
        "colab": {
          "base_uri": "https://localhost:8080/",
          "height": 34
        },
        "outputId": "6dc8d7f3-72f6-4462-c479-ef1561df9455"
      },
      "source": [
        "print(ann.predict(sc.transform([[1, 0, 0, 600, 1, 40, 3, 60000, 2, 1, 1, 50000]])) > 0.5)"
      ],
      "execution_count": 25,
      "outputs": [
        {
          "output_type": "stream",
          "text": [
            "[[False]]\n"
          ],
          "name": "stdout"
        }
      ]
    },
    {
      "cell_type": "markdown",
      "metadata": {
        "id": "Bx0zfFxk7bQF",
        "colab_type": "text"
      },
      "source": [
        "Now predicting Test set result"
      ]
    },
    {
      "cell_type": "code",
      "metadata": {
        "id": "zNf9P69v7kAo",
        "colab_type": "code",
        "colab": {
          "base_uri": "https://localhost:8080/",
          "height": 134
        },
        "outputId": "2ac7115e-5cf8-40f0-92b6-dbe8472da062"
      },
      "source": [
        "y_pred = ann.predict(X_test)\n",
        "y_pred = (y_pred > 0.5)\n",
        "print(np.concatenate((y_pred.reshape(len(y_pred),1), y_test.reshape(len(y_test),1)),1))"
      ],
      "execution_count": 26,
      "outputs": [
        {
          "output_type": "stream",
          "text": [
            "[[0 0]\n",
            " [0 1]\n",
            " [0 0]\n",
            " ...\n",
            " [0 0]\n",
            " [0 0]\n",
            " [0 0]]\n"
          ],
          "name": "stdout"
        }
      ]
    },
    {
      "cell_type": "markdown",
      "metadata": {
        "id": "K80vYUiK7uxN",
        "colab_type": "text"
      },
      "source": [
        "Making confusion matrix and predicting accuracy"
      ]
    },
    {
      "cell_type": "code",
      "metadata": {
        "id": "d5S4Y-_T7ucK",
        "colab_type": "code",
        "colab": {
          "base_uri": "https://localhost:8080/",
          "height": 67
        },
        "outputId": "df423177-a6a1-4e70-ed20-653533a5ed50"
      },
      "source": [
        "from sklearn.metrics import confusion_matrix, accuracy_score\n",
        "cm = confusion_matrix(y_test, y_pred)\n",
        "print(cm)\n",
        "accuracy_score(y_test, y_pred)"
      ],
      "execution_count": 27,
      "outputs": [
        {
          "output_type": "stream",
          "text": [
            "[[1515   80]\n",
            " [ 194  211]]\n"
          ],
          "name": "stdout"
        },
        {
          "output_type": "execute_result",
          "data": {
            "text/plain": [
              "0.863"
            ]
          },
          "metadata": {
            "tags": []
          },
          "execution_count": 27
        }
      ]
    }
  ]
}